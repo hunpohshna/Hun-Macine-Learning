{
 "cells": [
  {
   "cell_type": "markdown",
   "id": "8ecac14d-c0a6-468f-acb3-decdec605374",
   "metadata": {},
   "source": [
    "# Creation of numpy Array"
   ]
  },
  {
   "cell_type": "code",
   "execution_count": 2,
   "id": "42a7fa08-ce34-44bd-8b81-9d351d73c45f",
   "metadata": {},
   "outputs": [
    {
     "name": "stdout",
     "output_type": "stream",
     "text": [
      "[1 3 5 6 7]\n",
      "<class 'numpy.ndarray'>\n"
     ]
    }
   ],
   "source": [
    "import numpy as np\n",
    "arr= np.array([1,3,5,6,7])\n",
    "print(arr)\n",
    "print(type(arr))"
   ]
  },
  {
   "cell_type": "code",
   "execution_count": 4,
   "id": "d3111cd8-089d-400f-9db5-afd33daf6ccb",
   "metadata": {},
   "outputs": [
    {
     "name": "stdout",
     "output_type": "stream",
     "text": [
      "[[1 2 3]\n",
      " [4 5 6]]\n",
      "<class 'numpy.ndarray'>\n"
     ]
    }
   ],
   "source": [
    "import numpy as np\n",
    "ar= np.array([(1,2,3),(4,5,6)])\n",
    "print(ar)\n",
    "print(type(ar))"
   ]
  },
  {
   "cell_type": "code",
   "execution_count": 16,
   "id": "b2cea849-e858-4e16-b63c-b534fd57e138",
   "metadata": {},
   "outputs": [
    {
     "name": "stdout",
     "output_type": "stream",
     "text": [
      "[[1 2 3]\n",
      " [4 5 6]]\n"
     ]
    }
   ],
   "source": [
    "#Nested List 2d Array\n",
    "arr = np.array([[1, 2, 3], [4, 5, 6]])\n",
    "\n",
    "print(arr)"
   ]
  },
  {
   "cell_type": "code",
   "execution_count": 5,
   "id": "10f1926b-b659-4186-a95a-283c5af50a93",
   "metadata": {},
   "outputs": [
    {
     "name": "stdout",
     "output_type": "stream",
     "text": [
      "1.26.4\n"
     ]
    }
   ],
   "source": [
    "print(np.__version__)"
   ]
  },
  {
   "cell_type": "code",
   "execution_count": 38,
   "id": "21f2abd4-dfde-4a23-b007-dc930f041d64",
   "metadata": {},
   "outputs": [
    {
     "name": "stdout",
     "output_type": "stream",
     "text": [
      "[[1 2 3 4 5]\n",
      " [1 2 3 4 5]]\n"
     ]
    }
   ],
   "source": [
    "#2d Tuple\n",
    "myTuple=((1, 2, 3, 4, 5),(1, 2, 3, 4, 5))\n",
    "arr = np.array(myTuple)\n",
    "\n",
    "print(arr)"
   ]
  },
  {
   "cell_type": "code",
   "execution_count": 10,
   "id": "7e11b738-59bc-4e94-b814-07f5eebaf90c",
   "metadata": {},
   "outputs": [
    {
     "name": "stdout",
     "output_type": "stream",
     "text": [
      "[[[ 1  2  3]\n",
      "  [ 4  5  6]]\n",
      "\n",
      " [[13 14 15]\n",
      "  [20 21 22]]]\n"
     ]
    }
   ],
   "source": [
    "#3 D Arrays\n",
    "arr = np.array([[[1, 2, 3], [4, 5, 6]], [[13, 14, 15], [20, 21, 22]]])\n",
    "\n",
    "print(arr)"
   ]
  },
  {
   "cell_type": "code",
   "execution_count": 21,
   "id": "e6b78afc-40fd-4a6a-9a53-11737e3930ea",
   "metadata": {},
   "outputs": [
    {
     "name": "stdout",
     "output_type": "stream",
     "text": [
      "0\n",
      "1\n",
      "2\n",
      "3\n"
     ]
    }
   ],
   "source": [
    "#Check how many dimensions the arrays have\n",
    "a = np.array(42)\n",
    "b = np.array([1, 2, 3, 4, 5])\n",
    "c = np.array([[1, 2, 3], [4, 5, 6]])\n",
    "#d = np.array([[[1, 2, 3], [4, 5, 6]], [[1, 2, 3], [4, 5, 6]]])\n",
    "d= np.array([[[1,2,3],[4,5,6]],[[7,6,5],[3,5,8]]])\n",
    "print(a.ndim)\n",
    "print(b.ndim)\n",
    "print(c.ndim)\n",
    "print(d.ndim)"
   ]
  },
  {
   "cell_type": "code",
   "execution_count": 46,
   "id": "87ac0859-d234-4fe2-ae3b-4a411c2a5557",
   "metadata": {},
   "outputs": [
    {
     "name": "stdout",
     "output_type": "stream",
     "text": [
      "[['' '' '' '']\n",
      " ['' '' '' '']]\n"
     ]
    }
   ],
   "source": [
    "#Empty function, Zeros function and ones function\n",
    "arr2= np.empty((2,4),dtype='U') #random garbage values\n",
    "print(arr2)"
   ]
  },
  {
   "cell_type": "code",
   "execution_count": 37,
   "id": "3f2fd7e9-7652-4317-b3ba-ad05fdc13b88",
   "metadata": {},
   "outputs": [
    {
     "name": "stdout",
     "output_type": "stream",
     "text": [
      "[[0 0 0 0 0]\n",
      " [0 0 0 0 0]]\n"
     ]
    }
   ],
   "source": [
    "arr3= np.zeros((2,5),dtype=int)  \n",
    "print(arr3)"
   ]
  },
  {
   "cell_type": "code",
   "execution_count": 39,
   "id": "1bd31b60-1e4d-4fb9-9659-26a2ad429e15",
   "metadata": {},
   "outputs": [
    {
     "name": "stdout",
     "output_type": "stream",
     "text": [
      "<U6\n"
     ]
    }
   ],
   "source": [
    "#The NumPy array object has a property called dtype that returns the data type of the array\n",
    "arr = np.array(['apple', 'banana', 'cherry'])\n",
    "\n",
    "print(arr.dtype)"
   ]
  },
  {
   "cell_type": "code",
   "execution_count": 40,
   "id": "ed5d80b7-3df4-4752-9106-3c2925ccf9c3",
   "metadata": {},
   "outputs": [
    {
     "name": "stdout",
     "output_type": "stream",
     "text": [
      "int32\n"
     ]
    }
   ],
   "source": [
    "arr = np.array([1, 2, 3, 4])\n",
    "\n",
    "print(arr.dtype)"
   ]
  },
  {
   "cell_type": "code",
   "execution_count": 56,
   "id": "e1d1efc5-87b9-406f-b0c0-6d4110fa404d",
   "metadata": {},
   "outputs": [
    {
     "name": "stdout",
     "output_type": "stream",
     "text": [
      "[1 2 3 4]\n",
      "int32\n"
     ]
    }
   ],
   "source": [
    "#Create an array with data type 4 bytes integer:\n",
    "\n",
    "import numpy as np\n",
    "\n",
    "arr = np.array([1, 2, 3, 4], dtype='i4')\n",
    "\n",
    "print(arr)\n",
    "print(arr.dtype)"
   ]
  },
  {
   "cell_type": "markdown",
   "id": "299bfb1c-911d-4106-9f6f-d662e6053f4d",
   "metadata": {},
   "source": [
    "# Array attribute"
   ]
  },
  {
   "cell_type": "code",
   "execution_count": 7,
   "id": "1af6601a-5892-4a41-8056-8adb89f1db40",
   "metadata": {},
   "outputs": [
    {
     "name": "stdout",
     "output_type": "stream",
     "text": [
      "(2, 3)\n",
      "[[1 2]\n",
      " [3 4]\n",
      " [5 6]]\n"
     ]
    }
   ],
   "source": [
    "#Shape \n",
    "import numpy as np\n",
    "c = np.array([[1, 2, 3], [4, 5, 6]])\n",
    "print(c.shape)\n",
    "\n",
    "#c.shape=(3,2)  #Change resize of adarray\n",
    "#print(\"\\n\",c)\n",
    "print(c.reshape(3,2))\n",
    "   "
   ]
  },
  {
   "cell_type": "markdown",
   "id": "8ead650e-b04d-4f36-addf-7eb0d771914e",
   "metadata": {},
   "source": [
    "# Creation of array"
   ]
  },
  {
   "cell_type": "code",
   "execution_count": 12,
   "id": "84dbeef6-cf37-4a16-a5df-ae21223ac279",
   "metadata": {},
   "outputs": [
    {
     "name": "stdout",
     "output_type": "stream",
     "text": [
      "int32\n",
      "[[      0       1       0]\n",
      " [    385     336       0]\n",
      " [    768   32762 4522067]]\n"
     ]
    }
   ],
   "source": [
    "#Empty function\n",
    "import numpy as np\n",
    "c = np.empty([3,3], dtype= int)\n",
    "print(c.dtype)\n",
    "print(c)"
   ]
  },
  {
   "cell_type": "code",
   "execution_count": 23,
   "id": "faca5d1f-6f2f-44d0-bf51-617e0627ea44",
   "metadata": {},
   "outputs": [
    {
     "name": "stdout",
     "output_type": "stream",
     "text": [
      "Identity Matrix:\n",
      "[[1. 0. 0.]\n",
      " [0. 1. 0.]\n",
      " [0. 0. 1.]]\n",
      "\n",
      "Identity Matrix with Offset:\n",
      "[[0 0 0 1 0 0]\n",
      " [0 0 0 0 1 0]\n",
      " [0 0 0 0 0 1]\n",
      " [0 0 0 0 0 0]]\n"
     ]
    }
   ],
   "source": [
    "#Eye function\n",
    "import numpy as np\n",
    "\n",
    "# Create a 3x3 identity matrix\n",
    "identity_matrix = np.eye(3)\n",
    "print(\"Identity Matrix:\")\n",
    "print(identity_matrix)\n",
    "\n",
    "# Create a 4x5 identity matrix with offset\n",
    "identity_matrix_offset = np.eye(4,6, k=3,dtype=int)\n",
    "print(\"\\nIdentity Matrix with Offset:\")\n",
    "print(identity_matrix_offset)\n"
   ]
  },
  {
   "cell_type": "code",
   "execution_count": 24,
   "id": "3afefde9-ce65-4242-b52d-4faa03d18725",
   "metadata": {},
   "outputs": [
    {
     "name": "stdout",
     "output_type": "stream",
     "text": [
      "Identity Matrix:\n",
      "[[1. 0. 0.]\n",
      " [0. 1. 0.]\n",
      " [0. 0. 1.]]\n",
      "\n",
      "Identity Matrix (4x4):\n",
      "[[1 0 0 0]\n",
      " [0 1 0 0]\n",
      " [0 0 1 0]\n",
      " [0 0 0 1]]\n"
     ]
    }
   ],
   "source": [
    "#Identity matrix\n",
    "import numpy as np\n",
    "\n",
    "# Create a 3x3 identity matrix\n",
    "identity_matrix = np.identity(3)\n",
    "print(\"Identity Matrix:\")\n",
    "print(identity_matrix)\n",
    "\n",
    "# Create a 4x4 identity matrix\n",
    "identity_matrix_4x4 = np.identity(4, dtype=int)\n",
    "print(\"\\nIdentity Matrix (4x4):\")\n",
    "print(identity_matrix_4x4)\n"
   ]
  },
  {
   "cell_type": "code",
   "execution_count": 33,
   "id": "85557221-67dd-4e64-ab4e-33ce4c9eaa08",
   "metadata": {},
   "outputs": [
    {
     "name": "stdout",
     "output_type": "stream",
     "text": [
      "Zeros Array:\n",
      "[[0. 0. 0.]\n",
      " [0. 0. 0.]]\n",
      "float64\n",
      "\n",
      "Zeros 3D Array:\n",
      "[[[0. 0.]\n",
      "  [0. 0.]]\n",
      "\n",
      " [[0. 0.]\n",
      "  [0. 0.]]\n",
      "\n",
      " [[0. 0.]\n",
      "  [0. 0.]]]\n"
     ]
    }
   ],
   "source": [
    "#The numpy.zeros() function creates an array filled with zeros.\n",
    "import numpy as np\n",
    "\n",
    "# Create a 2x3 array filled with zeros\n",
    "zeros_array = np.zeros((2, 3),dtype=float)\n",
    "print(\"Zeros Array:\")\n",
    "print(zeros_array)\n",
    "print(zeros_array.dtype)\n",
    "\n",
    "# Create a 3x2x2 array filled with zeros\n",
    "zeros_3d_array = np.zeros((3, 2, 2))\n",
    "print(\"\\nZeros 3D Array:\")\n",
    "print(zeros_3d_array)\n"
   ]
  },
  {
   "cell_type": "code",
   "execution_count": 1,
   "id": "2dec5bf4-0bcd-4d49-9d9c-c7e0a01ece92",
   "metadata": {},
   "outputs": [
    {
     "name": "stdout",
     "output_type": "stream",
     "text": [
      "2D Array filled with 98:\n",
      "[[98 98 98]\n",
      " [98 98 98]]\n",
      "\n",
      "3D Array filled with pi:\n",
      "[[[3.14159265 3.14159265]\n",
      "  [3.14159265 3.14159265]]\n",
      "\n",
      " [[3.14159265 3.14159265]\n",
      "  [3.14159265 3.14159265]]\n",
      "\n",
      " [[3.14159265 3.14159265]\n",
      "  [3.14159265 3.14159265]]]\n"
     ]
    }
   ],
   "source": [
    "#Full funtion\n",
    "import numpy as np\n",
    "\n",
    "# Create a 2x3 array filled with 5\n",
    "array_2d = np.full((2, 3), 98)\n",
    "print(\"2D Array filled with 98:\")\n",
    "print(array_2d)\n",
    "\n",
    "# Create a 3x2x2 array filled with pi\n",
    "array_3d = np.full((3, 2, 2), np.pi)\n",
    "print(\"\\n3D Array filled with pi:\")\n",
    "print(array_3d)\n"
   ]
  },
  {
   "cell_type": "code",
   "execution_count": 7,
   "id": "178d2f1f-6505-48cd-b58b-39c800fa82ea",
   "metadata": {},
   "outputs": [
    {
     "name": "stdout",
     "output_type": "stream",
     "text": [
      "NumPy array from Python list: [1 2 3 4 5]\n",
      "NumPy array from Python tuple: [ 6  7  8  9 10]\n",
      "Original NumPy array: [11 12 13 14 15]\n",
      "New NumPy array from original array: [11 12 13 14 15]\n",
      "float32\n",
      "NumPy array with specified data type: [1.1 2.2 3.3 4.4 5.5]\n"
     ]
    }
   ],
   "source": [
    "import numpy as np\n",
    "\n",
    "# Example 1: Convert a Python list to a NumPy array\n",
    "python_list = [1, 2, 3, 4, 5]\n",
    "numpy_array = np.asarray(python_list)\n",
    "print(\"NumPy array from Python list:\", numpy_array)\n",
    "\n",
    "# Example 2: Convert a tuple to a NumPy array\n",
    "python_tuple = (6, 7, 8, 9, 10)\n",
    "numpy_array = np.asarray(python_tuple)\n",
    "print(\"NumPy array from Python tuple:\", numpy_array)\n",
    "\n",
    "# Example 3: Convert a NumPy array to another NumPy array\n",
    "original_array = np.array([11, 12, 13, 14, 15])\n",
    "new_array = np.asarray(original_array)\n",
    "print(\"Original NumPy array:\", original_array)\n",
    "print(\"New NumPy array from original array:\", new_array)\n",
    "\n",
    "# Example 4: Using dtype parameter to specify data type\n",
    "original_list = [1.1, 2.2, 3.3, 4.4, 5.5]\n",
    "numpy_array_float = np.asarray(original_list, dtype=np.float32)\n",
    "print(numpy_array_float.dtype)\n",
    "print(\"NumPy array with specified data type:\", numpy_array_float)\n"
   ]
  },
  {
   "cell_type": "code",
   "execution_count": 8,
   "id": "828c97d5-14b3-46b4-abbf-0dbb9adf9eac",
   "metadata": {},
   "outputs": [
    {
     "name": "stdout",
     "output_type": "stream",
     "text": [
      "Original Decimal Number: 1234567890.1234567\n",
      "Converted to float32: 1234568000.0\n",
      "Converted to float64: 1234567890.1234567\n"
     ]
    }
   ],
   "source": [
    "#Testing Precision between float32 and float64\n",
    "import numpy as np\n",
    "\n",
    "# Define a decimal number with high precision\n",
    "decimal_number = 1234567890.123456789\n",
    "\n",
    "# Convert the decimal number to float32 and float64\n",
    "float32_number = np.float32(decimal_number)\n",
    "float64_number = np.float64(decimal_number)\n",
    "\n",
    "# Print the converted numbers\n",
    "print(\"Original Decimal Number:\", decimal_number)\n",
    "print(\"Converted to float32:\", float32_number)\n",
    "print(\"Converted to float64:\", float64_number)\n"
   ]
  },
  {
   "cell_type": "code",
   "execution_count": 13,
   "id": "50944ca9-1c3b-4a28-8713-d59a81df92e7",
   "metadata": {},
   "outputs": [
    {
     "name": "stdout",
     "output_type": "stream",
     "text": [
      "Original Decimal Number: 12366666.12345679\n",
      "Converted to float32: 12366666.0\n",
      "Converted to float64: 12366666.12345679\n"
     ]
    }
   ],
   "source": [
    "import numpy as np\n",
    "\n",
    "# Define a decimal number with high precision\n",
    "decimal_number = 12366666.123456789\n",
    "\n",
    "# Convert the decimal number to float32 and float64\n",
    "float32_number = np.float32(decimal_number)\n",
    "float64_number = np.float64(decimal_number)\n",
    "\n",
    "# Print the converted numbers\n",
    "print(\"Original Decimal Number:\", decimal_number)\n",
    "print(\"Converted to float32:\", float32_number)\n",
    "print(\"Converted to float64:\", float64_number)"
   ]
  },
  {
   "cell_type": "code",
   "execution_count": 14,
   "id": "2e411d85-de17-4151-98fb-adc4afccef7d",
   "metadata": {},
   "outputs": [
    {
     "name": "stdout",
     "output_type": "stream",
     "text": [
      "NumPy array with int8 data type: [1 2 3]\n",
      "NumPy array with int32 data type: [1 2 3]\n",
      "NumPy array with int64 data type: [1 2 3]\n"
     ]
    }
   ],
   "source": [
    "import numpy as np\n",
    "\n",
    "# Example with int8\n",
    "numpy_array_int8 = np.array([1, 2, 3], dtype=np.int8)\n",
    "print(\"NumPy array with int8 data type:\", numpy_array_int8)\n",
    "\n",
    "# Example with int32\n",
    "numpy_array_int32 = np.array([1, 2, 3], dtype=np.int32)\n",
    "print(\"NumPy array with int32 data type:\", numpy_array_int32)\n",
    "\n",
    "# Example with int64\n",
    "numpy_array_int64 = np.array([1, 2, 3], dtype=np.int64)\n",
    "print(\"NumPy array with int64 data type:\", numpy_array_int64)\n"
   ]
  },
  {
   "cell_type": "code",
   "execution_count": 20,
   "id": "1178f254-9c3f-43bd-ad7a-3e2001116427",
   "metadata": {},
   "outputs": [
    {
     "name": "stdout",
     "output_type": "stream",
     "text": [
      "int32\n",
      "NumPy array with int32 data type: [1 2 3]\n"
     ]
    }
   ],
   "source": [
    "numpy_array_int32 = np.array([1, 2, 3], dtype=int)\n",
    "print(numpy_array_int32.dtype)\n",
    "print(\"NumPy array with int32 data type:\", numpy_array_int32)"
   ]
  },
  {
   "cell_type": "markdown",
   "id": "31453369-bb7a-401e-bf7c-1ddf8c13777c",
   "metadata": {},
   "source": [
    "## Array from existing data"
   ]
  },
  {
   "cell_type": "code",
   "execution_count": 30,
   "id": "2ec3ede2-8142-468e-aa5e-9342e6bafd52",
   "metadata": {},
   "outputs": [
    {
     "name": "stdout",
     "output_type": "stream",
     "text": [
      "Matrix created from array using asmatrix():\n",
      "[[1 2]\n",
      " [3 4]]\n",
      "<class 'numpy.matrix'>\n",
      "[[ 1 76]\n",
      " [ 3  4]]\n",
      "\n",
      "Matrix created from data using matrix():\n",
      "[[1 2]\n",
      " [3 4]]\n",
      "<class 'numpy.matrix'>\n"
     ]
    }
   ],
   "source": [
    "#asmatrix() is equivalent to matrix(data, copy=False)\n",
    "#to convert arrays into matrices, especially when dealing with linear algebraic operations.\n",
    "\n",
    "import numpy as np\n",
    "\n",
    "# Example 1: Using asmatrix() to create a matrix from an array\n",
    "array = np.array([[1, 2], [3, 4]])\n",
    "matrix_from_array = np.asmatrix(array)\n",
    "print(\"Matrix created from array using asmatrix():\")\n",
    "print(matrix_from_array)\n",
    "print(type(matrix_from_array))\n",
    "matrix_from_array[0,1]=76 # Changibg the value of elements\n",
    "print(matrix_from_array)\n",
    "\n",
    "# Example 2: Using matrix() to create a matrix from data\n",
    "data = [[1, 2], [3, 4]]\n",
    "matrix_from_data = np.matrix(data,copy=False)\n",
    "print(\"\\nMatrix created from data using matrix():\")\n",
    "print(matrix_from_data)\n",
    "print(type(matrix_from_data))\n"
   ]
  },
  {
   "cell_type": "code",
   "execution_count": 19,
   "id": "85fa4b2c-73ce-4866-89ea-27182e173fa2",
   "metadata": {},
   "outputs": [
    {
     "name": "stdout",
     "output_type": "stream",
     "text": [
      "[3, 4]\n",
      "Numpy array created from the iterable object:\n",
      "[0 1 2 3 4]\n"
     ]
    }
   ],
   "source": [
    "#Fromiter()\n",
    "import numpy as np\n",
    "\n",
    "# Define an iterable object (e.g., a list)\n",
    "list=[1,2,3,4,5,6]\n",
    "print(list[2:4])\n",
    "my_list = range(5)\n",
    "\n",
    "# Create a numpy array from the iterable using fromiter()\n",
    "array_from_iter = np.fromiter(my_list, dtype=int,count=-1)\n",
    "\n",
    "# Print the resulting numpy array\n",
    "print(\"Numpy array created from the iterable object:\")\n",
    "print(array_from_iter)\n"
   ]
  },
  {
   "cell_type": "code",
   "execution_count": 23,
   "id": "8f6ac191-e283-4191-901f-e6caf7da586b",
   "metadata": {},
   "outputs": [
    {
     "name": "stdout",
     "output_type": "stream",
     "text": [
      "Original Array: [1 2 3 4 5]\n",
      "Copied Array: [100   2   3   4   5]\n"
     ]
    }
   ],
   "source": [
    "#Copy() and view() \n",
    "import numpy as np\n",
    "\n",
    "# Original array\n",
    "original_array = np.array([1, 2, 3, 4, 5])\n",
    "\n",
    "# Create a copy of the original array\n",
    "copied_array = np.copy(original_array)\n",
    "\n",
    "# Modify the copied array\n",
    "copied_array[0] = 100\n",
    "\n",
    "# Print both arrays\n",
    "print(\"Original Array:\", original_array)\n",
    "print(\"Copied Array:\", copied_array)\n"
   ]
  },
  {
   "cell_type": "code",
   "execution_count": 21,
   "id": "f0d3588c-c243-4494-a026-3cd796ce6231",
   "metadata": {},
   "outputs": [
    {
     "name": "stdout",
     "output_type": "stream",
     "text": [
      "Original Array: [100   2   3   4   5]\n",
      "View Array: [100   2   3   4   5]\n"
     ]
    }
   ],
   "source": [
    "# Original array\n",
    "original_array = np.array([1, 2, 3, 4, 5])\n",
    "\n",
    "# Create a view of the original array\n",
    "view_array = original_array.view()\n",
    "\n",
    "# Modify the view array\n",
    "view_array[0] = 100\n",
    "\n",
    "# Print both arrays\n",
    "print(\"Original Array:\", original_array)\n",
    "print(\"View Array:\", view_array)"
   ]
  },
  {
   "cell_type": "code",
   "execution_count": 27,
   "id": "1c897021-51bc-4de3-9431-650426526fbe",
   "metadata": {},
   "outputs": [
    {
     "name": "stdout",
     "output_type": "stream",
     "text": [
      "Array from 0 to 9:\n",
      "[0 1 2 3 4 5 6 7 8 9]\n",
      "\n",
      "Array of even numbers from 2 to 10:\n",
      "[ 2  4  6  8 10]\n",
      "\n",
      "Array from 0 to 1 with a step of 0.1:\n",
      "[0.  0.1 0.2 0.3 0.4 0.5 0.6 0.7 0.8 0.9]\n"
     ]
    }
   ],
   "source": [
    "#arange()\n",
    "import numpy as np\n",
    "\n",
    "# Create an array of integers from 0 to 9\n",
    "array1 = np.arange(10)\n",
    "\n",
    "# Print the resulting array\n",
    "print(\"Array from 0 to 9:\")\n",
    "print(array1)\n",
    "\n",
    "# Create an array of even numbers from 2 to 10 (exclusive)\n",
    "array2 = np.arange(2, 11, 2)\n",
    "\n",
    "# Print the resulting array\n",
    "print(\"\\nArray of even numbers from 2 to 10:\")\n",
    "print(array2)\n",
    "\n",
    "# Create an array of floating-point numbers from 0 to 1 with a step of 0.1\n",
    "array3 = np.arange(0, 1, 0.1)\n",
    "\n",
    "# Print the resulting array\n",
    "print(\"\\nArray from 0 to 1 with a step of 0.1:\")\n",
    "print(array3)\n"
   ]
  },
  {
   "cell_type": "markdown",
   "id": "fc5c00b2-8041-4c2b-985c-8c5a7f15ba88",
   "metadata": {},
   "source": [
    "## Indexing and Slicing"
   ]
  },
  {
   "cell_type": "code",
   "execution_count": 28,
   "id": "d609d490-cc32-4610-9a5c-6fe3c7d78dc6",
   "metadata": {},
   "outputs": [
    {
     "name": "stdout",
     "output_type": "stream",
     "text": [
      "7\n"
     ]
    }
   ],
   "source": [
    "import numpy as np\n",
    "\n",
    "arr = np.array([1, 2, 3, 4])\n",
    "#Accessing  third and fourth elements from the following array and add them\n",
    "print(arr[2] + arr[3])"
   ]
  },
  {
   "cell_type": "code",
   "execution_count": 35,
   "id": "1fe87af5-25ef-43f6-9070-86c8b93aba8d",
   "metadata": {},
   "outputs": [
    {
     "name": "stdout",
     "output_type": "stream",
     "text": [
      "2nd element on 1st row:  32\n",
      "5th element on 2nd row:  10\n"
     ]
    }
   ],
   "source": [
    "#2 D arrays\n",
    "import numpy as np\n",
    "\n",
    "arr = np.array([[1,2,3,4,5], [6,7,8,9,10]])\n",
    "arr[0,1]= 32\n",
    "print('2nd element on 1st row: ', arr[0, 1])\n",
    "print('5th element on 2nd row: ', arr[1, 4])"
   ]
  },
  {
   "cell_type": "code",
   "execution_count": 37,
   "id": "97090e3c-f27c-4351-9ee1-db431f9a7913",
   "metadata": {},
   "outputs": [
    {
     "name": "stdout",
     "output_type": "stream",
     "text": [
      "Last element from 2nd dim:  8\n"
     ]
    }
   ],
   "source": [
    "import numpy as np\n",
    "\n",
    "arr = np.array([[1,2,3,4,5], [6,7,8,9,10]])\n",
    "\n",
    "print('Last element from 2nd dim: ', arr[1, -3])"
   ]
  },
  {
   "cell_type": "code",
   "execution_count": 40,
   "id": "f5aa436b-e9ef-4ab9-b980-0fd3d7eaa861",
   "metadata": {},
   "outputs": [
    {
     "name": "stdout",
     "output_type": "stream",
     "text": [
      "[1 2 3 4]\n"
     ]
    }
   ],
   "source": [
    "import numpy as np\n",
    "\n",
    "arr = np.array([1, 2, 3, 4, 5, 6, 7])\n",
    "\n",
    "print(arr[:4])"
   ]
  },
  {
   "cell_type": "code",
   "execution_count": 1,
   "id": "5151054b-0478-45e7-b727-b4eb56263185",
   "metadata": {},
   "outputs": [
    {
     "name": "stdout",
     "output_type": "stream",
     "text": [
      "[1 2 3 4 5 6 7]\n"
     ]
    }
   ],
   "source": [
    "#all elements of th e array\n",
    "import numpy as np\n",
    "\n",
    "arr = np.array([1, 2, 3, 4, 5, 6, 7])\n",
    "\n",
    "print(arr[::])"
   ]
  },
  {
   "cell_type": "code",
   "execution_count": 42,
   "id": "b0581e53-b9da-4c73-9b56-3289e2013cee",
   "metadata": {},
   "outputs": [
    {
     "name": "stdout",
     "output_type": "stream",
     "text": [
      "5\n"
     ]
    }
   ],
   "source": [
    "import numpy as np\n",
    "\n",
    "arr = np.array([1, 2, 3, 4, 5, 6, 7])\n",
    "\n",
    "print(arr[-3:-1])"
   ]
  },
  {
   "cell_type": "code",
   "execution_count": 2,
   "id": "6259990b-2655-49af-aca9-00353dd26d67",
   "metadata": {},
   "outputs": [
    {
     "name": "stdout",
     "output_type": "stream",
     "text": [
      "[7 8 9]\n"
     ]
    }
   ],
   "source": [
    "#From the second element, slice elements from index 1 to index 4 (not included):\n",
    "\n",
    "import numpy as np\n",
    "\n",
    "arr = np.array([[1, 2, 3, 4, 5], [6, 7, 8, 9, 10]])\n",
    "\n",
    "print(arr[1, 1:4])\n"
   ]
  },
  {
   "cell_type": "code",
   "execution_count": 5,
   "id": "2bde891a-c122-4a4b-b07e-4ba72ca7c4cd",
   "metadata": {},
   "outputs": [
    {
     "name": "stdout",
     "output_type": "stream",
     "text": [
      "[[2 3 4]\n",
      " [7 8 9]]\n"
     ]
    }
   ],
   "source": [
    "import numpy as np\n",
    "\n",
    "arr = np.array([[1, 2, 3, 4, 5], [6, 7, 8, 9, 10]])\n",
    "\n",
    "print(arr[:, 1:4])"
   ]
  },
  {
   "cell_type": "code",
   "execution_count": 53,
   "id": "ba15f521-3dd1-47cb-a9b2-707eadf6a05b",
   "metadata": {},
   "outputs": [
    {
     "name": "stdout",
     "output_type": "stream",
     "text": [
      "[3 8]\n",
      "[[ 3  4  5]\n",
      " [ 8  9 10]]\n"
     ]
    }
   ],
   "source": [
    "#From both elements, return index 2:\n",
    "\n",
    "import numpy as np\n",
    "\n",
    "arr = np.array([[1, 2, 3, 4, 5], [6, 7, 8, 9, 10]])\n",
    "print(arr[0:2, 2])\n",
    "print(arr[0:2, 2:5])"
   ]
  },
  {
   "cell_type": "code",
   "execution_count": 54,
   "id": "c9d7508b-3fa3-442a-b474-1c0c91db9b0f",
   "metadata": {},
   "outputs": [
    {
     "name": "stdout",
     "output_type": "stream",
     "text": [
      "(2, 4)\n"
     ]
    }
   ],
   "source": [
    "import numpy as np\n",
    "\n",
    "arr = np.array([[1, 2, 3, 4], [5, 6, 7, 8]])\n",
    "\n",
    "print(arr.shape)"
   ]
  },
  {
   "cell_type": "code",
   "execution_count": 57,
   "id": "1c267b34-7d09-4617-a316-1c32cefd5d12",
   "metadata": {},
   "outputs": [
    {
     "name": "stdout",
     "output_type": "stream",
     "text": [
      "[[ 1  2  3]\n",
      " [ 4  5  6]\n",
      " [ 7  8  9]\n",
      " [10 11 14]]\n"
     ]
    }
   ],
   "source": [
    "import numpy as np\n",
    "\n",
    "arr = np.array([1, 2, 3, 4, 5, 6, 7, 8, 9, 10, 11,14])\n",
    "\n",
    "newarr = arr.reshape(4, 3)\n",
    "\n",
    "print(newarr)"
   ]
  },
  {
   "cell_type": "markdown",
   "id": "dd81f2d8-4e8c-4580-bb70-e9e9b37f7b4b",
   "metadata": {},
   "source": [
    "## iterating of arrays "
   ]
  },
  {
   "cell_type": "code",
   "execution_count": 59,
   "id": "92b231d1-2ec2-4ea3-97f9-5560135cff82",
   "metadata": {},
   "outputs": [
    {
     "name": "stdout",
     "output_type": "stream",
     "text": [
      "1\n",
      "2\n",
      "3\n"
     ]
    }
   ],
   "source": [
    "import numpy as np\n",
    "\n",
    "arr = np.array([1, 2, 3])\n",
    "\n",
    "for x in arr:\n",
    "  print(x)"
   ]
  },
  {
   "cell_type": "code",
   "execution_count": 60,
   "id": "9eabb14f-8ca0-4b66-9c19-42e4329bef8a",
   "metadata": {},
   "outputs": [
    {
     "name": "stdout",
     "output_type": "stream",
     "text": [
      "[1 2 3]\n",
      "[4 5 6]\n"
     ]
    }
   ],
   "source": [
    "import numpy as np\n",
    "\n",
    "arr = np.array([[1, 2, 3], [4, 5, 6]])\n",
    "\n",
    "for x in arr:\n",
    "  print(x)"
   ]
  },
  {
   "cell_type": "code",
   "execution_count": 61,
   "id": "d45180a6-07d5-4358-9570-fa48df8dae1f",
   "metadata": {},
   "outputs": [
    {
     "name": "stdout",
     "output_type": "stream",
     "text": [
      "1\n",
      "2\n",
      "3\n",
      "4\n",
      "5\n",
      "6\n"
     ]
    }
   ],
   "source": [
    "#Iterate on each scalar element of the 2-D array:\n",
    "\n",
    "import numpy as np\n",
    "\n",
    "arr = np.array([[1, 2, 3], [4, 5, 6]])\n",
    "\n",
    "for x in arr:\n",
    "  for y in x:\n",
    "    print(y)"
   ]
  },
  {
   "cell_type": "code",
   "execution_count": 62,
   "id": "88354460-2a28-4247-883b-953bbf5261f4",
   "metadata": {},
   "outputs": [
    {
     "name": "stdout",
     "output_type": "stream",
     "text": [
      "1\n",
      "2\n",
      "3\n",
      "4\n",
      "5\n",
      "6\n",
      "7\n",
      "8\n"
     ]
    }
   ],
   "source": [
    "#Iterate through the following 3-D array:\n",
    "\n",
    "import numpy as np\n",
    "\n",
    "arr = np.array([[[1, 2], [3, 4]], [[5, 6], [7, 8]]])\n",
    "\n",
    "for x in np.nditer(arr):\n",
    "  print(x)\n"
   ]
  },
  {
   "cell_type": "code",
   "execution_count": 63,
   "id": "1bfa4ce7-2dd8-4494-9f4c-720ed3662178",
   "metadata": {},
   "outputs": [
    {
     "name": "stdout",
     "output_type": "stream",
     "text": [
      "[1 2 3 4 5 6]\n"
     ]
    }
   ],
   "source": [
    "#Join two arrays\n",
    "\n",
    "import numpy as np\n",
    "\n",
    "arr1 = np.array([1, 2, 3])\n",
    "\n",
    "arr2 = np.array([4, 5, 6])\n",
    "\n",
    "arr = np.concatenate((arr1, arr2))\n",
    "\n",
    "print(arr)"
   ]
  },
  {
   "cell_type": "code",
   "execution_count": 67,
   "id": "a42446f8-bb01-489b-aa65-48571e1a5af4",
   "metadata": {},
   "outputs": [
    {
     "name": "stdout",
     "output_type": "stream",
     "text": [
      "[1 2 3 4 5 6]\n"
     ]
    }
   ],
   "source": [
    "#numpy.concatenate((a1, a2, ...), axis=0, out=None)\n",
    "import numpy as np\n",
    "\n",
    "# Creating two arrays to concatenate\n",
    "arr1 = np.array([1, 2, 3])\n",
    "arr2 = np.array([4, 5, 6])\n",
    "\n",
    "# Concatenating along axis 0 (default)\n",
    "result = np.concatenate((arr1, arr2),axis=0) \n",
    "print(result)  # Output: [1 2 3 4 5 6]\n"
   ]
  },
  {
   "cell_type": "code",
   "execution_count": 68,
   "id": "2ab21b66-86a0-4e71-b9b5-8c6c4980dfa2",
   "metadata": {},
   "outputs": [
    {
     "name": "stdout",
     "output_type": "stream",
     "text": [
      "Concatenation along axis 0:\n",
      "[[1 2]\n",
      " [3 4]\n",
      " [5 6]\n",
      " [7 8]]\n",
      "\n",
      "Concatenation along axis 1:\n",
      "[[1 2 5 6]\n",
      " [3 4 7 8]]\n"
     ]
    }
   ],
   "source": [
    "import numpy as np\n",
    "\n",
    "# Creating two 2D arrays\n",
    "arr1 = np.array([[1, 2], [3, 4]])\n",
    "arr2 = np.array([[5, 6], [7, 8]])\n",
    "\n",
    "# Concatenating along axis 0 (rows)\n",
    "result_axis_0 = np.concatenate((arr1, arr2), axis=0)\n",
    "print(\"Concatenation along axis 0:\")\n",
    "print(result_axis_0)\n",
    "# Output:\n",
    "# [[1 2]\n",
    "#  [3 4]\n",
    "#  [5 6]\n",
    "#  [7 8]]\n",
    "\n",
    "# Concatenating along axis 1 (columns)\n",
    "result_axis_1 = np.concatenate((arr1, arr2), axis=1)\n",
    "print(\"\\nConcatenation along axis 1:\")\n",
    "print(result_axis_1)\n",
    "# Output:\n",
    "# [[1 2 5 6]\n",
    "#  [3 4 7 8]]\n"
   ]
  },
  {
   "cell_type": "code",
   "execution_count": 69,
   "id": "81e17707-dddd-47ef-99cb-504025ccd575",
   "metadata": {},
   "outputs": [
    {
     "name": "stdout",
     "output_type": "stream",
     "text": [
      "[[1 2 5 6]\n",
      " [3 4 7 8]]\n"
     ]
    }
   ],
   "source": [
    "import numpy as np\n",
    "\n",
    "arr1 = np.array([[1, 2], [3, 4]])\n",
    "\n",
    "arr2 = np.array([[5, 6], [7, 8]])\n",
    "\n",
    "arr = np.concatenate((arr1, arr2), axis=1)\n",
    "\n",
    "print(arr)"
   ]
  },
  {
   "cell_type": "code",
   "execution_count": 75,
   "id": "7206c9a1-3cc8-4751-8b98-e7d51f67f054",
   "metadata": {},
   "outputs": [
    {
     "name": "stdout",
     "output_type": "stream",
     "text": [
      "(6,)\n",
      "[1 2 3 4 5 6]\n"
     ]
    }
   ],
   "source": [
    "#NumPy provides a helper function: hstack() to stack along column.\n",
    "\n",
    "import numpy as np\n",
    "\n",
    "arr1 = np.array([1, 2, 3])\n",
    "\n",
    "arr2 = np.array([4, 5, 6])\n",
    "\n",
    "arr = np.hstack((arr1, arr2))\n",
    "print(np.shape(arr))\n",
    "print(arr)"
   ]
  },
  {
   "cell_type": "code",
   "execution_count": 76,
   "id": "5320539a-567a-4d6a-b778-ad2e6bf43167",
   "metadata": {},
   "outputs": [
    {
     "name": "stdout",
     "output_type": "stream",
     "text": [
      "(3, 4)\n",
      "[[1 2 3 4]\n",
      " [4 5 6 5]\n",
      " [7 8 9 9]]\n"
     ]
    }
   ],
   "source": [
    "#NumPy provides a helper function: vstack()  to stack along rows.\n",
    "\n",
    "\n",
    "import numpy as np\n",
    "\n",
    "arr1 = np.array([1, 2, 3,4])\n",
    "\n",
    "arr2 = np.array([4, 5, 6,5])\n",
    "arr3 = np.array([7,8,9,9])\n",
    "\n",
    "arr = np.vstack((arr1, arr2,arr3))\n",
    "print(np.shape(arr))\n",
    "\n",
    "print(arr)"
   ]
  },
  {
   "cell_type": "code",
   "execution_count": 77,
   "id": "40d01d8a-8eb4-497a-8ebb-ddf8b88a5984",
   "metadata": {},
   "outputs": [
    {
     "name": "stdout",
     "output_type": "stream",
     "text": [
      "[[[1 4]\n",
      "  [2 5]\n",
      "  [3 6]]]\n"
     ]
    }
   ],
   "source": [
    "import numpy as np\n",
    "\n",
    "arr1 = np.array([1, 2, 3])\n",
    "\n",
    "arr2 = np.array([4, 5, 6])\n",
    "\n",
    "arr = np.dstack((arr1, arr2))\n",
    "\n",
    "print(arr)"
   ]
  },
  {
   "cell_type": "code",
   "execution_count": 78,
   "id": "cdc01905-e789-4e86-9fa0-ab57916a7c8d",
   "metadata": {},
   "outputs": [
    {
     "name": "stdout",
     "output_type": "stream",
     "text": [
      "[array([0, 1, 2, 3]), array([4, 5, 6]), array([7, 8, 9])]\n"
     ]
    }
   ],
   "source": [
    "#split an array into multiple sub-arrays along a specified axis\n",
    "import numpy as np\n",
    "\n",
    "arr = np.arange(10)  # Creating an array [0, 1, 2, 3, 4, 5, 6, 7, 8, 9]\n",
    "sub_arrays = np.array_split(arr, 3)  # Splitting the array into 3 sub-arrays\n",
    "print(sub_arrays)\n"
   ]
  },
  {
   "cell_type": "code",
   "execution_count": 79,
   "id": "afeaa142-1b5b-4f40-96f1-bc96cd8d432c",
   "metadata": {},
   "outputs": [
    {
     "name": "stdout",
     "output_type": "stream",
     "text": [
      "[array([1, 2]), array([3, 4]), array([5]), array([6])]\n"
     ]
    }
   ],
   "source": [
    "#Split the array in 4 parts:\n",
    "\n",
    "import numpy as np\n",
    "\n",
    "arr = np.array([1, 2, 3, 4, 5, 6])\n",
    "\n",
    "newarr = np.array_split(arr, 4)\n",
    "\n",
    "print(newarr)"
   ]
  },
  {
   "cell_type": "code",
   "execution_count": 80,
   "id": "5cbcfa33-d416-4a13-9609-c82688452daa",
   "metadata": {},
   "outputs": [
    {
     "name": "stdout",
     "output_type": "stream",
     "text": [
      "[1 2]\n",
      "[3 4]\n",
      "[5 6]\n"
     ]
    }
   ],
   "source": [
    "#If you split an array into 3 arrays, you can access them from the result just like any array element\n",
    "import numpy as np\n",
    "\n",
    "arr = np.array([1, 2, 3, 4, 5, 6])\n",
    "\n",
    "newarr = np.array_split(arr, 3)\n",
    "\n",
    "print(newarr[0])\n",
    "print(newarr[1])\n",
    "print(newarr[2])"
   ]
  },
  {
   "cell_type": "code",
   "execution_count": 84,
   "id": "f2d2fc65-4fc8-4ffd-bc7d-e52e4429ec4e",
   "metadata": {},
   "outputs": [
    {
     "name": "stdout",
     "output_type": "stream",
     "text": [
      "[[ 1  2]\n",
      " [ 3  4]\n",
      " [ 5  6]\n",
      " [ 7  8]\n",
      " [ 9 10]\n",
      " [11 12]]\n",
      "\n",
      "[array([[1, 2],\n",
      "       [3, 4]]), array([[5, 6],\n",
      "       [7, 8]]), array([[ 9, 10],\n",
      "       [11, 12]])]\n",
      "\n",
      "[[ 9 10]\n",
      " [11 12]]\n"
     ]
    },
    {
     "ename": "TypeError",
     "evalue": "list indices must be integers or slices, not tuple",
     "output_type": "error",
     "traceback": [
      "\u001b[1;31m---------------------------------------------------------------------------\u001b[0m",
      "\u001b[1;31mTypeError\u001b[0m                                 Traceback (most recent call last)",
      "Cell \u001b[1;32mIn[84], line 13\u001b[0m\n\u001b[0;32m     11\u001b[0m \u001b[38;5;28mprint\u001b[39m()\n\u001b[0;32m     12\u001b[0m \u001b[38;5;28mprint\u001b[39m(newarr[\u001b[38;5;241m2\u001b[39m])\n\u001b[1;32m---> 13\u001b[0m arr3\u001b[38;5;241m=\u001b[39mnewarr[\u001b[38;5;241m1\u001b[39m,\u001b[38;5;241m0\u001b[39m:\u001b[38;5;241m2\u001b[39m]\n\u001b[0;32m     14\u001b[0m \u001b[38;5;28mprint\u001b[39m(arr3)\n",
      "\u001b[1;31mTypeError\u001b[0m: list indices must be integers or slices, not tuple"
     ]
    }
   ],
   "source": [
    "#Split the 2-D array into three 2-D arrays.\n",
    "\n",
    "import numpy as np\n",
    "\n",
    "arr = np.array([[1, 2], [3, 4], [5, 6], [7, 8], [9, 10], [11, 12]])\n",
    "print(arr)\n",
    "print()\n",
    "newarr = np.array_split(arr, 3)\n",
    "\n",
    "print(newarr)\n",
    "print()\n",
    "print(newarr[2])\n",
    "arr3=newarr[1,0:2]\n",
    "print(arr3)"
   ]
  },
  {
   "cell_type": "code",
   "execution_count": 86,
   "id": "2be1966e-8eb2-4753-b6a7-7e4da75811d6",
   "metadata": {},
   "outputs": [
    {
     "name": "stdout",
     "output_type": "stream",
     "text": [
      "[array([[ 1],\n",
      "       [ 4],\n",
      "       [ 7],\n",
      "       [10],\n",
      "       [13],\n",
      "       [16]]), array([[ 2],\n",
      "       [ 5],\n",
      "       [ 8],\n",
      "       [11],\n",
      "       [14],\n",
      "       [17]]), array([[ 3],\n",
      "       [ 6],\n",
      "       [ 9],\n",
      "       [12],\n",
      "       [15],\n",
      "       [18]])]\n"
     ]
    }
   ],
   "source": [
    "#Split the 2-D array into three 2-D arrays along rows.\n",
    "\n",
    "import numpy as np\n",
    "\n",
    "arr = np.array([[1, 2, 3], [4, 5, 6], [7, 8, 9], [10, 11, 12], [13, 14, 15], [16, 17, 18]])\n",
    "\n",
    "newarr = np.array_split(arr, 3, axis=1)\n",
    "\n",
    "print(newarr)"
   ]
  },
  {
   "cell_type": "code",
   "execution_count": 89,
   "id": "e2f00e48-144e-481d-b4cc-01032379c2ec",
   "metadata": {},
   "outputs": [
    {
     "name": "stdout",
     "output_type": "stream",
     "text": [
      "[array([[ 1],\n",
      "       [ 4],\n",
      "       [ 7],\n",
      "       [10],\n",
      "       [13],\n",
      "       [16]]), array([[ 2],\n",
      "       [ 5],\n",
      "       [ 8],\n",
      "       [11],\n",
      "       [14],\n",
      "       [17]]), array([[ 3],\n",
      "       [ 6],\n",
      "       [ 9],\n",
      "       [12],\n",
      "       [15],\n",
      "       [18]])]\n"
     ]
    }
   ],
   "source": [
    "#An alternate solution is using hsplit() opposite of hstack()\n",
    "\n",
    "#Use the hsplit() method to split the 2-D array into three 2-D arrays along rows.\n",
    "\n",
    "import numpy as np\n",
    "\n",
    "arr = np.array([[1, 2, 3], [4, 5, 6], [7, 8, 9], [10, 11, 12], [13, 14, 15], [16, 17, 18]])\n",
    "\n",
    "newarr = np.hsplit(arr, 3)\n",
    "\n",
    "print(newarr)"
   ]
  },
  {
   "cell_type": "code",
   "execution_count": 90,
   "id": "137a1c15-2817-41b0-8059-3a0e1ca3f62c",
   "metadata": {},
   "outputs": [
    {
     "name": "stdout",
     "output_type": "stream",
     "text": [
      "(array([3, 5, 6], dtype=int64),)\n"
     ]
    }
   ],
   "source": [
    "#Find the indexes where the value is 4:\n",
    "\n",
    "import numpy as np\n",
    "\n",
    "arr = np.array([1, 2, 3, 4, 5, 4, 4])\n",
    "\n",
    "x = np.where(arr == 4)\n",
    "\n",
    "print(x)"
   ]
  },
  {
   "cell_type": "code",
   "execution_count": 91,
   "id": "c85e1297-663e-4aef-a18f-ff9be845a692",
   "metadata": {},
   "outputs": [
    {
     "name": "stdout",
     "output_type": "stream",
     "text": [
      "(array([0, 2, 4, 6], dtype=int64),)\n"
     ]
    }
   ],
   "source": [
    "#Find the indexes where the values are odd:\n",
    "\n",
    "import numpy as np\n",
    "\n",
    "arr = np.array([1, 2, 3, 4, 5, 6, 7, 8])\n",
    "\n",
    "x = np.where(arr%2 == 1)\n",
    "\n",
    "print(x)"
   ]
  },
  {
   "cell_type": "code",
   "execution_count": 92,
   "id": "f3cd8934-277e-4668-8add-0786adc8ca7d",
   "metadata": {},
   "outputs": [
    {
     "name": "stdout",
     "output_type": "stream",
     "text": [
      "[0 1 2 3]\n"
     ]
    }
   ],
   "source": [
    "#Sort the array:\n",
    "\n",
    "import numpy as np\n",
    "\n",
    "arr = np.array([3, 2, 0, 1])\n",
    "\n",
    "print(np.sort(arr))"
   ]
  },
  {
   "cell_type": "code",
   "execution_count": 93,
   "id": "e75ea228-7fa7-4bd5-9d9f-3d424b0c0cba",
   "metadata": {},
   "outputs": [
    {
     "name": "stdout",
     "output_type": "stream",
     "text": [
      "['apple' 'banana' 'cherry']\n"
     ]
    }
   ],
   "source": [
    "import numpy as np\n",
    "\n",
    "arr = np.array(['banana', 'cherry', 'apple'])\n",
    "\n",
    "print(np.sort(arr))"
   ]
  },
  {
   "cell_type": "code",
   "execution_count": 94,
   "id": "4ac16bb6-1ab3-4731-8503-694f1f251528",
   "metadata": {},
   "outputs": [
    {
     "name": "stdout",
     "output_type": "stream",
     "text": [
      "[[2 3 4]\n",
      " [0 1 5]]\n"
     ]
    }
   ],
   "source": [
    "#Sort a 2-D array:\n",
    "\n",
    "import numpy as np\n",
    "\n",
    "arr = np.array([[3, 2, 4], [5, 0, 1]])\n",
    "\n",
    "print(np.sort(arr))"
   ]
  },
  {
   "cell_type": "code",
   "execution_count": 95,
   "id": "f8ffbafc-5401-48f7-895d-77bea1e70c91",
   "metadata": {},
   "outputs": [
    {
     "name": "stdout",
     "output_type": "stream",
     "text": [
      "Original array:\n",
      "[[3 2 1]\n",
      " [6 5 4]]\n",
      "\n",
      "Sorted along the last axis (default):\n",
      "[[1 2 3]\n",
      " [4 5 6]]\n",
      "\n",
      "Sorted along the first axis:\n",
      "[[3 2 1]\n",
      " [6 5 4]]\n",
      "\n",
      "Sorted using mergesort algorithm:\n",
      "[[1 2 3]\n",
      " [4 5 6]]\n",
      "\n",
      "Sorted using heapsort algorithm:\n",
      "[[1 2 3]\n",
      " [4 5 6]]\n",
      "\n",
      "Sorted structured array by age:\n",
      "[(b'Dave', 20) (b'John', 25) (b'Jane', 30)]\n"
     ]
    }
   ],
   "source": [
    "import numpy as np\n",
    "\n",
    "# Define an example array\n",
    "arr = np.array([[3, 2, 1], [6, 5, 4]])\n",
    "\n",
    "# Original array\n",
    "print(\"Original array:\")\n",
    "print(arr)\n",
    "\n",
    "# Sorting along the last axis (axis=-1 by default)\n",
    "sorted_arr_axis = np.sort(arr)\n",
    "print(\"\\nSorted along the last axis (default):\")\n",
    "print(sorted_arr_axis)\n",
    "\n",
    "# Sorting along the first axis\n",
    "sorted_arr_axis_0 = np.sort(arr, axis=0)\n",
    "print(\"\\nSorted along the first axis:\")\n",
    "print(sorted_arr_axis_0)\n",
    "\n",
    "# Using mergesort algorithm\n",
    "sorted_arr_mergesort = np.sort(arr, kind='mergesort')\n",
    "print(\"\\nSorted using mergesort algorithm:\")\n",
    "print(sorted_arr_mergesort)\n",
    "\n",
    "# Using heapsort algorithm\n",
    "sorted_arr_heapsort = np.sort(arr, kind='heapsort')\n",
    "print(\"\\nSorted using heapsort algorithm:\")\n",
    "print(sorted_arr_heapsort)\n",
    "\n",
    "# Sorting with a specified order\n",
    "dtype = [('name', 'S10'), ('age', int)]\n",
    "values = [('John', 25), ('Jane', 30), ('Dave', 20)]\n",
    "arr_structured = np.array(values, dtype=dtype)\n",
    "sorted_arr_order = np.sort(arr_structured, order='age')\n",
    "print(\"\\nSorted structured array by age:\")\n",
    "print(sorted_arr_order)\n"
   ]
  },
  {
   "cell_type": "code",
   "execution_count": 1,
   "id": "6397d79b-4258-4bcf-9751-1f487853be4e",
   "metadata": {},
   "outputs": [
    {
     "name": "stdout",
     "output_type": "stream",
     "text": [
      "Total sum of all elements: 21\n",
      "Sum along axis 0 (columns): [5 7 9]\n",
      "Sum along axis 1 (rows): [ 6 15]\n"
     ]
    }
   ],
   "source": [
    "#Sum()\n",
    "import numpy as np\n",
    "\n",
    "# Define an array\n",
    "arr = np.array([[1, 2, 3], [4, 5, 6]])\n",
    "\n",
    "# Sum all elements of the array\n",
    "total_sum = np.sum(arr)\n",
    "print(\"Total sum of all elements:\", total_sum)\n",
    "\n",
    "# Sum along axis 0 (columns)\n",
    "sum_axis_0 = np.sum(arr, axis=0)\n",
    "print(\"Sum along axis 0 (columns):\", sum_axis_0)\n",
    "\n",
    "# Sum along axis 1 (rows)\n",
    "sum_axis_1 = np.sum(arr, axis=1)\n",
    "print(\"Sum along axis 1 (rows):\", sum_axis_1)\n"
   ]
  },
  {
   "cell_type": "code",
   "execution_count": 2,
   "id": "fa8acace-3c0e-4996-83ec-b6c58f8a6f23",
   "metadata": {},
   "outputs": [
    {
     "name": "stdout",
     "output_type": "stream",
     "text": [
      "[41 43]\n"
     ]
    }
   ],
   "source": [
    "#Create an array from the elements on index 0 and 2:\n",
    "\n",
    "import numpy as np\n",
    "\n",
    "arr = np.array([41, 42, 43, 44])\n",
    "\n",
    "x = [True, False, True, False]\n",
    "\n",
    "newarr = arr[x]\n",
    "\n",
    "print(newarr)"
   ]
  },
  {
   "cell_type": "code",
   "execution_count": 4,
   "id": "98f35ad7-ca5b-4d81-a3a5-28ae1ab972c3",
   "metadata": {},
   "outputs": [
    {
     "name": "stdout",
     "output_type": "stream",
     "text": [
      "[False, False, True, True]\n",
      "[43 44]\n"
     ]
    }
   ],
   "source": [
    "#Create a filter array that will return only values higher than 42:\n",
    "import numpy as np\n",
    "\n",
    "arr = np.array([41, 42, 43, 44])\n",
    "\n",
    "# Create an empty list\n",
    "boolList = []\n",
    "\n",
    "# go through each element in arr\n",
    "for element in arr:\n",
    "  # if the element is higher than 42, set the value to True, otherwise False:\n",
    "  if element > 42:\n",
    "    boolList.append(True)\n",
    "  else:\n",
    "    boolList.append(False)\n",
    "\n",
    "newarr = arr[boolList]\n",
    "\n",
    "print(boolList)\n",
    "print(newarr)"
   ]
  },
  {
   "cell_type": "code",
   "execution_count": 1,
   "id": "b5b133b9-e97c-4394-8f3f-15aca88826d1",
   "metadata": {},
   "outputs": [
    {
     "name": "stdout",
     "output_type": "stream",
     "text": [
      "   A   B   C\n",
      "0  1   6  11\n",
      "1  2   7  12\n",
      "2  3   8  13\n",
      "3  4   9  14\n",
      "4  5  10  15\n",
      "\n",
      "   B   C\n",
      "1  7  12\n",
      "2  8  13\n",
      "3  9  14\n"
     ]
    }
   ],
   "source": [
    "#example of how you can slice a two-dimensional pandas DataFrame using Python\n",
    "import pandas as pd\n",
    "\n",
    "# Creating a sample DataFrame\n",
    "data = {\n",
    "    'A': [1, 2, 3, 4, 5],\n",
    "    'B': [6, 7, 8, 9, 10],\n",
    "    'C': [11, 12, 13, 14, 15]\n",
    "}\n",
    "\n",
    "df = pd.DataFrame(data)\n",
    "print(df)\n",
    "print()\n",
    "\n",
    "# Slicing rows and columns\n",
    "# Syntax: DataFrame.loc[row_selection, column_selection]\n",
    "\n",
    "# Selecting rows 1 to 3 and columns 'B' and 'C'\n",
    "sliced_df = df.loc[1:3, ['B', 'C']]\n",
    "\n",
    "print(sliced_df)\n"
   ]
  },
  {
   "cell_type": "markdown",
   "id": "4143c255-3e74-4a6e-95e4-4ed56855e937",
   "metadata": {},
   "source": [
    "## Reshape()"
   ]
  },
  {
   "cell_type": "code",
   "execution_count": 12,
   "id": "66e0e9e9-3fdd-4c8c-9eaa-b5cd6a3ad3cb",
   "metadata": {},
   "outputs": [
    {
     "name": "stdout",
     "output_type": "stream",
     "text": [
      "(12,)\n",
      "[[ 1]\n",
      " [ 2]\n",
      " [ 3]\n",
      " [ 4]\n",
      " [ 5]\n",
      " [ 6]\n",
      " [ 7]\n",
      " [ 8]\n",
      " [ 9]\n",
      " [10]\n",
      " [11]\n",
      " [12]]\n"
     ]
    },
    {
     "data": {
      "text/plain": [
       "(12, 1)"
      ]
     },
     "execution_count": 12,
     "metadata": {},
     "output_type": "execute_result"
    }
   ],
   "source": [
    "#Convert the following 1-D array with 12 elements into a 2-D array.\n",
    "import numpy as np\n",
    "\n",
    "arr = np.array([1, 2, 3, 4, 5, 6, 7, 8, 9, 10, 11, 12])\n",
    "print(arr.shape)\n",
    "newarr = arr.reshape(12,1)\n",
    "\n",
    "print(newarr)\n",
    "newarr.shape"
   ]
  },
  {
   "cell_type": "code",
   "execution_count": 4,
   "id": "204cb9ec-193f-4062-8c29-5eb0b3ac6110",
   "metadata": {},
   "outputs": [
    {
     "name": "stdout",
     "output_type": "stream",
     "text": [
      "[1 2 3 4 5 6]\n"
     ]
    }
   ],
   "source": [
    "#Convert the array into a 1D array:using reshape(-1)\n",
    "\n",
    "import numpy as np\n",
    "\n",
    "arr = np.array([[1, 2, 3], [4, 5, 6]])\n",
    "\n",
    "newarr = arr.reshape(-1)\n",
    "\n",
    "print(newarr)"
   ]
  },
  {
   "cell_type": "code",
   "execution_count": 3,
   "id": "8becd20b-5bd7-4b00-867d-a7ee100b4201",
   "metadata": {},
   "outputs": [
    {
     "name": "stdout",
     "output_type": "stream",
     "text": [
      "[[ 1  2  3]\n",
      " [ 4  5  6]\n",
      " [ 7  8  9]\n",
      " [10 11 12]]\n"
     ]
    }
   ],
   "source": [
    "import numpy as np\n",
    "\n",
    "arr = np.array([1, 2, 3, 4, 5, 6, 7, 8, 9, 10, 11, 12])\n",
    "\n",
    "#newarr = np.reshape(arr,(4, 3))\n",
    "newarr = arr.reshape()\n",
    "print(newarr)"
   ]
  },
  {
   "cell_type": "code",
   "execution_count": 4,
   "id": "2d98e00d-17e7-499b-83c5-198def12ec2d",
   "metadata": {},
   "outputs": [
    {
     "name": "stdout",
     "output_type": "stream",
     "text": [
      "[1 2 3 4 5 6]\n"
     ]
    }
   ],
   "source": [
    "import numpy as np\n",
    "\n",
    "arr = np.array([[1, 2, 3], [4, 5, 6]])\n",
    "\n",
    "newarr = arr.reshape(-1)\n",
    "\n",
    "print(newarr)"
   ]
  },
  {
   "cell_type": "code",
   "execution_count": 9,
   "id": "f58c2833-3337-4309-a982-59eaf3a28a35",
   "metadata": {},
   "outputs": [
    {
     "name": "stdout",
     "output_type": "stream",
     "text": [
      "[1 2 3 4 5 6]\n"
     ]
    }
   ],
   "source": [
    "import numpy as np\n",
    "\n",
    "arr1 = np.array([1, 2, 3])\n",
    "\n",
    "arr2 = np.array([4, 5, 6])\n",
    "\n",
    "arr = np.concatenate((arr1, arr2),axis=0)\n",
    "\n",
    "print(arr)"
   ]
  },
  {
   "cell_type": "code",
   "execution_count": 18,
   "id": "cebca06b-e67f-448c-a722-18d015c680fa",
   "metadata": {},
   "outputs": [
    {
     "name": "stdout",
     "output_type": "stream",
     "text": [
      "[[1 2]\n",
      " [3 4]]\n",
      "\n",
      "[[5 6]\n",
      " [7 8]] \n",
      "\n",
      "[[1 2]\n",
      " [3 4]\n",
      " [5 6]\n",
      " [7 8]]\n"
     ]
    }
   ],
   "source": [
    "import numpy as np\n",
    "\n",
    "arr1 = np.array([[1, 2], [3, 4]])\n",
    "print(arr1)\n",
    "print()\n",
    "\n",
    "arr2 = np.array([[5, 6], [7, 8]])\n",
    "print(arr2,'\\n')\n",
    "arr = np.concatenate((arr1, arr2), axis=0)\n",
    "print(arr)\n",
    "\n",
    "#'''When axis=1, the arrays are joined along rows, resulting in an array with the same number of rows and the sum of columns from both arrays.\n",
    "#When axis=0, the arrays are joined along columns, resulting in an array with the same number of columns and the sum of rows from both arrays.'''"
   ]
  },
  {
   "cell_type": "code",
   "execution_count": 19,
   "id": "7d1d1555-8efa-49ca-803e-b8fae3303552",
   "metadata": {},
   "outputs": [
    {
     "name": "stdout",
     "output_type": "stream",
     "text": [
      "[[1 4]\n",
      " [2 5]\n",
      " [3 6]]\n"
     ]
    }
   ],
   "source": [
    "import numpy as np\n",
    "\n",
    "arr1 = np.array([1, 2, 3])\n",
    "\n",
    "arr2 = np.array([4, 5, 6])\n",
    "\n",
    "arr = np.stack((arr1, arr2), axis=1)\n",
    "\n",
    "print(arr)"
   ]
  },
  {
   "cell_type": "code",
   "execution_count": 20,
   "id": "47216875-aa46-4666-86f2-28974734e846",
   "metadata": {},
   "outputs": [
    {
     "name": "stdout",
     "output_type": "stream",
     "text": [
      "[[2 3 4]\n",
      " [0 1 5]]\n"
     ]
    }
   ],
   "source": [
    "#Sort a 2-D array:\n",
    "\n",
    "import numpy as np\n",
    "\n",
    "arr = np.array([[3, 2, 4], [5, 0, 1]])\n",
    "\n",
    "print(np.sort(arr))"
   ]
  },
  {
   "cell_type": "code",
   "execution_count": 24,
   "id": "856455fa-2bd3-431a-8e90-35b82709c89b",
   "metadata": {},
   "outputs": [
    {
     "name": "stdout",
     "output_type": "stream",
     "text": [
      "The youngest child is Linus\n"
     ]
    }
   ],
   "source": [
    "def my_function(child3, child2, child1):\n",
    "  print(\"The youngest child is \" + child3)\n",
    "\n",
    "my_function(child1 = \"Emil\",child3 = \"Linus\" ,child2 = \"Tobias\")"
   ]
  },
  {
   "cell_type": "code",
   "execution_count": null,
   "id": "b3c71d55-114c-4c98-bf06-ed5e0c8c315f",
   "metadata": {},
   "outputs": [],
   "source": []
  }
 ],
 "metadata": {
  "kernelspec": {
   "display_name": "Python 3 (ipykernel)",
   "language": "python",
   "name": "python3"
  },
  "language_info": {
   "codemirror_mode": {
    "name": "ipython",
    "version": 3
   },
   "file_extension": ".py",
   "mimetype": "text/x-python",
   "name": "python",
   "nbconvert_exporter": "python",
   "pygments_lexer": "ipython3",
   "version": "3.11.7"
  }
 },
 "nbformat": 4,
 "nbformat_minor": 5
}
